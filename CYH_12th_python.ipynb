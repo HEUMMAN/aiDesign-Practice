{
 "cells": [
  {
   "cell_type": "code",
   "execution_count": 3,
   "metadata": {},
   "outputs": [
    {
     "ename": "NameError",
     "evalue": "name 'X_train' is not defined",
     "output_type": "error",
     "traceback": [
      "\u001b[1;31m---------------------------------------------------------------------------\u001b[0m",
      "\u001b[1;31mNameError\u001b[0m                                 Traceback (most recent call last)",
      "\u001b[1;32m<ipython-input-3-63662ca106e8>\u001b[0m in \u001b[0;36m<module>\u001b[1;34m\u001b[0m\n\u001b[0;32m     46\u001b[0m \u001b[0mWV\u001b[0m \u001b[1;33m=\u001b[0m \u001b[0mnp\u001b[0m\u001b[1;33m.\u001b[0m\u001b[0mrandom\u001b[0m\u001b[1;33m.\u001b[0m\u001b[0mnormal\u001b[0m\u001b[1;33m(\u001b[0m\u001b[1;36m0\u001b[0m\u001b[1;33m,\u001b[0m \u001b[1;36m1\u001b[0m\u001b[1;33m,\u001b[0m \u001b[0mnWV\u001b[0m\u001b[1;33m)\u001b[0m\u001b[1;33m\u001b[0m\u001b[1;33m\u001b[0m\u001b[0m\n\u001b[0;32m     47\u001b[0m \u001b[1;33m\u001b[0m\u001b[0m\n\u001b[1;32m---> 48\u001b[1;33m \u001b[0mdWV_ana\u001b[0m \u001b[1;33m=\u001b[0m \u001b[0mdCE_FNN\u001b[0m\u001b[1;33m(\u001b[0m\u001b[0mWV\u001b[0m\u001b[1;33m,\u001b[0m \u001b[0mM\u001b[0m\u001b[1;33m,\u001b[0m \u001b[0mK\u001b[0m\u001b[1;33m,\u001b[0m \u001b[0mX_train\u001b[0m\u001b[1;33m[\u001b[0m\u001b[1;33m:\u001b[0m\u001b[0mN\u001b[0m\u001b[1;33m,\u001b[0m \u001b[1;33m:\u001b[0m\u001b[1;33m]\u001b[0m\u001b[1;33m,\u001b[0m \u001b[0mT_train\u001b[0m\u001b[1;33m[\u001b[0m\u001b[1;33m:\u001b[0m\u001b[0mN\u001b[0m\u001b[1;33m,\u001b[0m \u001b[1;33m:\u001b[0m\u001b[1;33m]\u001b[0m\u001b[1;33m)\u001b[0m\u001b[1;33m\u001b[0m\u001b[1;33m\u001b[0m\u001b[0m\n\u001b[0m\u001b[0;32m     49\u001b[0m \u001b[0mprint\u001b[0m\u001b[1;33m(\u001b[0m\u001b[1;34m\"analytical dWV\"\u001b[0m\u001b[1;33m)\u001b[0m\u001b[1;33m\u001b[0m\u001b[1;33m\u001b[0m\u001b[0m\n\u001b[0;32m     50\u001b[0m \u001b[0mprint\u001b[0m\u001b[1;33m(\u001b[0m\u001b[0mdWV_ana\u001b[0m\u001b[1;33m)\u001b[0m\u001b[1;33m\u001b[0m\u001b[1;33m\u001b[0m\u001b[0m\n",
      "\u001b[1;31mNameError\u001b[0m: name 'X_train' is not defined"
     ]
    }
   ],
   "source": [
    "import numpy as np\n",
    "def dCE_FNN(wv, M, K, x, t):\n",
    "    \n",
    "    N, D = x.shape\n",
    "    w = wv[:M * (D + 1)]\n",
    "    w = w.reshape(M, (D + 1))\n",
    "    v = wv[M + (D + 1):]\n",
    "    v = v.reshape((K, M + 1))\n",
    "    \n",
    "    y, a, z, b = FNN(wv, M, K, x)\n",
    "    \n",
    "    dwv = np.zeros_like(wv)\n",
    "    dw = np.zeros((M, D + 1))\n",
    "    dv = np.zeros((K, M + 1))\n",
    "    delta1 = np.zeros(M)\n",
    "    delta2 = np.zeros(K)\n",
    "    for n in range(N):\n",
    "        for k in range(K):\n",
    "            delta2[k] = (y[n, k] - t[n, k])\n",
    "            \n",
    "        for j in range(M):\n",
    "            delta1[j] = z[n, j] * (1 - z[n, j]) * np.dot(v[:, j], delta2)\n",
    "            \n",
    "        for k in range(K):\n",
    "            dv[k, :] = dv[k, :] + delta2[k] * z[n, :] / N\n",
    "            \n",
    "        for j in range(M):\n",
    "            dw[j, :] = dw[j, :] + delta1[j] * np.r_[x[n, :], 1] / N\n",
    "            \n",
    "    dwv = np.c_[dw.reshape((1, M * (D + 1))), dv.reshape((1, K * (M + 1)))]\n",
    "    dwv = dwv.reshape(-1)\n",
    "    return dwv\n",
    "\n",
    "def Show_dWV(wv, M):\n",
    "    N = wv.shape[0]\n",
    "    plt.bar(range(1, M * 3 + 1), wv[:M * 3], align=\"center\", color='black')\n",
    "    plt.bar(range(M * 3 + 1, N + 1), wv[M * 3:], align=\"center\", color='cornflowerblue')\n",
    "    plt.xticks(range(1, N + 1))\n",
    "    plt.xlim(0, N + 1)\n",
    "    \n",
    "M = 2\n",
    "K = 3\n",
    "N = 2\n",
    "nWV = M * 3 + K * (M + 1)\n",
    "np.random.seed(1)\n",
    "WV = np.random.normal(0, 1, nWV)\n",
    "    \n",
    "dWV_ana = dCE_FNN(WV, M, K, X_train[:N, :], T_train[:N, :])\n",
    "print(\"analytical dWV\")\n",
    "print(dWV_ana)\n",
    "    \n",
    "dWV_num = dCE_FNN_num(WV, M ,K ,X_train[:N, :], T_train[:N, :])\n",
    "print(\"numerical dWV\")\n",
    "print(dWV_num)\n",
    "\n",
    "plt.figure(1, figsize=(10, 10))\n",
    "plt.subplots_adjust(wspace=0.5)\n",
    "plt.subplot(2, 1, 1)\n",
    "Show_dWV(dWV_ana, M)\n",
    "plt.title('analitical')\n",
    "plt.subplot(2, 1, 2)\n",
    "Show_dWV(dWV_num, M)\n",
    "plt.title('numerical')\n",
    "plt.show()"
   ]
  }
 ],
 "metadata": {
  "kernelspec": {
   "display_name": "Python 3",
   "language": "python",
   "name": "python3"
  },
  "language_info": {
   "codemirror_mode": {
    "name": "ipython",
    "version": 3
   },
   "file_extension": ".py",
   "mimetype": "text/x-python",
   "name": "python",
   "nbconvert_exporter": "python",
   "pygments_lexer": "ipython3",
   "version": "3.7.6"
  }
 },
 "nbformat": 4,
 "nbformat_minor": 4
}
