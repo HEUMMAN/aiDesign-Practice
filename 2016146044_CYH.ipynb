{
 "cells": [
  {
   "cell_type": "code",
   "execution_count": 354,
   "metadata": {},
   "outputs": [
    {
     "name": "stdout",
     "output_type": "stream",
     "text": [
      "Student ID: 2016146044\n",
      "W = [-0.02 -0.38 -0.24  0.04  0.29 -0.16  0.   -0.29  0.56  0.94]\n",
      "\n",
      "\n",
      "No. \t Y \t T\n",
      "------------------\n",
      "0 \t 1 \t 1\n",
      "1 \t 1 \t 1\n",
      "2 \t 1 \t 1\n",
      "3 \t 0 \t 0\n",
      "4 \t 0 \t 0\n",
      "5 \t 0 \t 0\n",
      "6 \t 0 \t 0\n",
      "7 \t 1 \t 1\n",
      "8 \t 1 \t 1\n",
      "9 \t 1 \t 1\n",
      "------------------\n",
      "Total error : 0 out of 10\n",
      "Hit ratio : 100.0 %\n"
     ]
    },
    {
     "data": {
      "text/plain": [
       "100.0"
      ]
     },
     "execution_count": 354,
     "metadata": {},
     "output_type": "execute_result"
    }
   ],
   "source": [
    "## 매개변수 동작 확인 코드\n",
    "def validate_model(w):\n",
    "    d = np.loadtxt(fname=\"Sample_test_data.txt\")\n",
    "    X = d[:,:9].astype(int)\n",
    "    T = d[:,9].astype(int)\n",
    "    \n",
    "    \n",
    "    N = X.shape[0]\n",
    "    \n",
    "    y = np.zeros(N)\n",
    "    decision = np.zeros(N).astype(int)\n",
    "    err_cnt = 0\n",
    "    \n",
    "    print('No. \\t Y \\t T')\n",
    "    print('------------------')\n",
    "    for i in range(N):\n",
    "        x = np.r_[X[i,:],1]\n",
    "        u = np.array(w).dot(x)\n",
    "        y[i] = 1 / (1 + np.exp(-u))\n",
    "        if y[i]<0.5:\n",
    "            decision[i] = 1\n",
    "            \n",
    "        if decision[i] != T[i]:\n",
    "            err_cnt = err_cnt + 1\n",
    "            \n",
    "        print('{0} \\t {1} \\t {2}'.format(i, decision[i], T[i]))\n",
    "    \n",
    "    hit_ratio = np.round((1-err_cnt/N)*100,1)\n",
    "    \n",
    "    print('------------------')\n",
    "    print('Total error : {0} out of {1}'.format(err_cnt, N))\n",
    "    print('Hit ratio : {0:.1f} %'.format(hit_ratio))\n",
    "    \n",
    "    return hit_ratio\n",
    "\n",
    "StudentID = \"2016146044\"\n",
    "W = np.loadtxt(fname=StudentID+\".txt\")\n",
    "print(\"Student ID: \" + StudentID)\n",
    "print(\"W = \"+np.str(W))\n",
    "print(\"\\n\")\n",
    "\n",
    "validate_model(W)"
   ]
  },
  {
   "cell_type": "code",
   "execution_count": 332,
   "metadata": {
    "scrolled": true
   },
   "outputs": [
    {
     "name": "stdout",
     "output_type": "stream",
     "text": [
      "     fun: 0.07678496869089377\n",
      "     jac: array([-9.24893031e-06, -7.25177501e-06, -5.04549828e-06, -2.89793647e-06,\n",
      "       -6.33486217e-06,  3.91185594e-06, -4.91201726e-06, -8.33940848e-06,\n",
      "       -2.19410674e-06,  9.49370952e-06])\n",
      " message: 'Optimization terminated successfully.'\n",
      "    nfev: 246\n",
      "     nit: 118\n",
      "    njev: 246\n",
      "  status: 0\n",
      " success: True\n",
      "       x: array([ 5.34256216e-01, -6.00892937e-03,  3.22637719e-01,  3.30236921e-01,\n",
      "        9.63353056e-02,  3.82951318e-01,  4.46567752e-01,  2.12897715e-01,\n",
      "        5.33794148e-01, -1.00937421e+01])\n",
      "w0=0.5, w1=-0.0, w2=0.3, w3=0.3, w4=0.1, w5=0.4, w6=0.4, w7=0.2, w8=0.5, w9=-10.1\n"
     ]
    }
   ],
   "source": [
    "## 분류를 통한 비용함수 원본\n",
    "import numpy as np\n",
    "import matplotlib.pyplot as plt\n",
    "%matplotlib inline\n",
    "from scipy.optimize import minimize\n",
    "from mpl_toolkits.mplot3d import axes3d\n",
    "\n",
    "data = np.loadtxt(fname=\"Breast_cancer_data.txt\")\n",
    "X = data[:,:9].astype(int)\n",
    "T = data[:,9].astype(int)\n",
    "\n",
    "\n",
    "def logistic9(x0, x1, x2, x3, x4, x5 ,x6, x7, x8, w):\n",
    "    y = 1/(1+np.exp(-(w[0]*x0 + w[1]*x1 + w[2]*x2 + w[3]*x3 + w[4]*x4 + w[5]*x5 + w[6]*x6 + w[7]*x7 + w[8]*x8 + w[9])))\n",
    "\n",
    "    return y\n",
    "\n",
    "def cee_logistic9(w, x, t):\n",
    "    X_n = x.shape[0]\n",
    "    y = logistic9(x[:,0], x[:,1], x[:,2], x[:,3], x[:,4], x[:,5], x[:,6], x[:,7], x[:,8], w)\n",
    "    cee = 1\n",
    "    for n in range(len(y)):\n",
    "        if(y[n]==1):\n",
    "            y[n] = 0.99999999\n",
    "        cee = cee - (t[n]*np.log(y[n]) + (1-t[n])*np.log(1-y[n]))\n",
    "    cee = cee/X_n\n",
    "   \n",
    "    return cee\n",
    "\n",
    "def dcee_logistic9(w, x, t):\n",
    "    X_n = x.shape[0]\n",
    "    y = logistic9(x[:,0], x[:,1], x[:,2], x[:,3], x[:,4], x[:,5], x[:,6], x[:,7], x[:,8], w)\n",
    "    dcee = np.zeros(10)\n",
    "    for n in range(len(y)):\n",
    "        dcee[0] = dcee[0] + (y[n]-t[n])*x[n,0]\n",
    "        dcee[1] = dcee[1] + (y[n]-t[n])*x[n,1]\n",
    "        dcee[2] = dcee[2] + (y[n]-t[n])*x[n,2]\n",
    "        dcee[3] = dcee[3] + (y[n]-t[n])*x[n,3]\n",
    "        dcee[4] = dcee[4] + (y[n]-t[n])*x[n,4]\n",
    "        dcee[5] = dcee[5] + (y[n]-t[n])*x[n,5]\n",
    "        dcee[6] = dcee[6] + (y[n]-t[n])*x[n,6]\n",
    "        dcee[7] = dcee[7] + (y[n]-t[n])*x[n,7]\n",
    "        dcee[8] = dcee[8] + (y[n]-t[n])*x[n,8]\n",
    "        dcee[9] = dcee[9] + (y[n]-t[n])\n",
    "    dcee = dcee/X_n\n",
    "    return dcee\n",
    "\n",
    "def fit_logistic9(w_init, x, t):\n",
    "    res = minimize(cee_logistic9, w_init, args=(x,t), jac=dcee_logistic9, method=\"CG\",)\n",
    "    return res.x\n",
    "\n",
    "W_init = [1, 1, 1, 1, 1, 1, 1, 1, 1, 1]\n",
    "\n",
    "W = fit_logistic9(W_init, X, T)\n",
    "\n",
    "cee = cee_logistic9(W, X, T)\n",
    "       \n",
    "\n",
    "print(\"w0={0:.1f}, w1={1:.1f}, w2={2:.1f}, w3={3:.1f}, w4={4:.1f}, w5={5:.1f}, w6={6:.1f}, w7={7:.1f}, w8={8:.1f}, w9={9:.1f}\"\n",
    "      .format(W[0], W[1], W[2], W[3], W[4], W[5], W[6], W[7], W[8], W[9]))"
   ]
  },
  {
   "cell_type": "code",
   "execution_count": 343,
   "metadata": {
    "scrolled": false
   },
   "outputs": [
    {
     "name": "stdout",
     "output_type": "stream",
     "text": [
      "     fun: 1.0777368796122107\n",
      "     jac: array([-0.52855973, -0.00158406, -0.05313719, -0.03716886, -0.22815182,\n",
      "       -0.09253293, -0.2587073 ,  0.00699043,  0.03597411, -0.21888677])\n",
      " message: 'Desired error not necessarily achieved due to precision loss.'\n",
      "    nfev: 51\n",
      "     nit: 1\n",
      "    njev: 40\n",
      "  status: 2\n",
      " success: False\n",
      "       x: array([-0.22103359, -0.1172672 , -0.11442426,  0.05117591,  0.09524178,\n",
      "       -0.29566051, -0.01492167,  0.00497842,  0.55792661,  0.83013633])\n",
      "-0.2 -0.1 -0.1 0.1 0.1 -0.3 -0.0 0.0 0.6 0.8\n"
     ]
    }
   ],
   "source": [
    "## 분류를 통한 비용함수 사본\n",
    "import numpy as np\n",
    "import matplotlib.pyplot as plt\n",
    "%matplotlib inline\n",
    "from scipy.optimize import minimize\n",
    "from mpl_toolkits.mplot3d import axes3d\n",
    "import math\n",
    "\n",
    "data = np.loadtxt(fname=\"Breast_cancer_data.txt\")\n",
    "X = data[:,:9].astype(int)\n",
    "T = data[:,9].astype(int) \n",
    "\n",
    "for i in range(T.shape[0]):\n",
    "    if T[i] == 0:\n",
    "        T[i] = 1 \n",
    "    elif T[i] == 1:\n",
    "        T[i] = 0\n",
    "\n",
    "\n",
    "def logistic9(x0, x1, x2, x3, x4, x5 ,x6, x7, x8, w):\n",
    "    y = 1/(1+np.exp(-(w[0]*x0 + w[1]*x1 + w[2]*x2 + w[3]*x3 + w[4]*x4 + w[5]*x5 + w[6]*x6 + w[7]*x7 + w[8]*x8 + w[9])))\n",
    "    return y\n",
    "\n",
    "def cee_logistic9(w, x, t):\n",
    "    X_n = x.shape[0]\n",
    "    y = logistic9(x[:,0], x[:,1], x[:,2], x[:,3], x[:,4], x[:,5], x[:,6], x[:,7], x[:,8], w)\n",
    "    cee = 1\n",
    "    for n in range(len(y)):\n",
    "\n",
    "        if(y[n]==1.0):\n",
    "            y[n] = 0.999999999999\n",
    "\n",
    "        cee = cee - (t[n]* math.log(y[n]) + math.log(1-y[n]))\n",
    "        \n",
    "    cee = cee/X_n \n",
    "\n",
    "    return cee\n",
    "\n",
    "def dcee_logistic9(w, x, t):\n",
    "    X_n = x.shape[0]\n",
    "    y = logistic9(x[:,0], x[:,1], x[:,2], x[:,3], x[:,4], x[:,5], x[:,6], x[:,7], x[:,8], w)\n",
    "    dcee = np.zeros(10)\n",
    "    for n in range(len(y)):\n",
    "        dcee[0] = dcee[0] + (y[n]-t[n])*x[n,0]\n",
    "        dcee[1] = dcee[1] + (y[n]-t[n])*x[n,1]\n",
    "        dcee[2] = dcee[2] + (y[n]-t[n])*x[n,2]\n",
    "        dcee[3] = dcee[3] + (y[n]-t[n])*x[n,3]\n",
    "        dcee[4] = dcee[4] + (y[n]-t[n])*x[n,4]\n",
    "        dcee[5] = dcee[5] + (y[n]-t[n])*x[n,5]\n",
    "        dcee[6] = dcee[6] + (y[n]-t[n])*x[n,6]\n",
    "        dcee[7] = dcee[7] + (y[n]-t[n])*x[n,7]\n",
    "        dcee[8] = dcee[8] + (y[n]-t[n])*x[n,8]\n",
    "        dcee[9] = dcee[9] + (y[n]-t[n])\n",
    "    dcee = dcee/X_n\n",
    "\n",
    "    return dcee\n",
    "\n",
    "def fit_logistic9(w_init, x, t):\n",
    "    res = minimize(cee_logistic9, w_init, args=(x,t), jac=dcee_logistic9, method=\"CG\")\n",
    "    print(res)\n",
    "    return res.x\n",
    "\n",
    "W_init = [1,1,1,1,1,1,1,1,1,1]\n",
    "W = fit_logistic9(W_init, X, T)\n",
    "\n",
    "                  \n",
    "print(\"{0:.1f} {1:.1f} {2:.1f} {3:.1f} {4:.1f} {5:.1f} {6:.1f} {7:.1f} {8:.1f} {9:.1f}\"\n",
    "      .format(W[0], W[1], W[2], W[3], W[4], W[5], W[6], W[7], W[8], W[9]))"
   ]
  },
  {
   "cell_type": "code",
   "execution_count": 336,
   "metadata": {},
   "outputs": [
    {
     "name": "stdout",
     "output_type": "stream",
     "text": [
      "1 번 째 결과 0.0\n",
      "2 번 째 결과 -1.3256761186221766\n",
      "3 번 째 결과 -2.0156918341096786\n",
      "4 번 째 결과 9.793888301686998\n",
      "5 번 째 결과 3.5968248746174187\n",
      "6 번 째 결과 1.3743397406674684\n",
      "7 번 째 결과 6.041524268861853\n",
      "8 번 째 결과 41.589537702463666\n",
      "9 번 째 결과 12.649957079328523\n",
      "10 번 째 결과 43.934151021711884\n",
      "11 번 째 결과 59.987917209977184\n",
      "12 번 째 결과 128.2650108274939\n",
      "13 번 째 결과 58.77632434859794\n",
      "14 번 째 결과 94.35937491268275\n"
     ]
    },
    {
     "ename": "KeyboardInterrupt",
     "evalue": "",
     "output_type": "error",
     "traceback": [
      "\u001b[1;31m---------------------------------------------------------------------------\u001b[0m",
      "\u001b[1;31mKeyboardInterrupt\u001b[0m                         Traceback (most recent call last)",
      "\u001b[1;32m<ipython-input-336-201d1b9bc93f>\u001b[0m in \u001b[0;36m<module>\u001b[1;34m\u001b[0m\n\u001b[0;32m     16\u001b[0m         \u001b[0mT_train\u001b[0m\u001b[1;33m,\u001b[0m \u001b[0mT_test\u001b[0m \u001b[1;33m=\u001b[0m \u001b[0mT\u001b[0m\u001b[1;33m[\u001b[0m\u001b[0mtrain_index\u001b[0m\u001b[1;33m]\u001b[0m\u001b[1;33m,\u001b[0m \u001b[0mT\u001b[0m\u001b[1;33m[\u001b[0m\u001b[0mtest_index\u001b[0m\u001b[1;33m]\u001b[0m\u001b[1;33m\u001b[0m\u001b[1;33m\u001b[0m\u001b[0m\n\u001b[0;32m     17\u001b[0m \u001b[1;33m\u001b[0m\u001b[0m\n\u001b[1;32m---> 18\u001b[1;33m         \u001b[0mW\u001b[0m \u001b[1;33m=\u001b[0m \u001b[0mfit_logistic9\u001b[0m\u001b[1;33m(\u001b[0m\u001b[0mW_init\u001b[0m\u001b[1;33m,\u001b[0m \u001b[0mX_train\u001b[0m\u001b[1;33m,\u001b[0m \u001b[0mT_train\u001b[0m\u001b[1;33m)\u001b[0m\u001b[1;33m\u001b[0m\u001b[1;33m\u001b[0m\u001b[0m\n\u001b[0m\u001b[0;32m     19\u001b[0m         \u001b[0mtrain_result\u001b[0m \u001b[1;33m=\u001b[0m \u001b[0mtrain_result\u001b[0m \u001b[1;33m+\u001b[0m \u001b[0mW\u001b[0m\u001b[1;33m\u001b[0m\u001b[1;33m\u001b[0m\u001b[0m\n\u001b[0;32m     20\u001b[0m \u001b[1;33m\u001b[0m\u001b[0m\n",
      "\u001b[1;32m<ipython-input-335-f6b875a1a499>\u001b[0m in \u001b[0;36mfit_logistic9\u001b[1;34m(w_init, x, t)\u001b[0m\n\u001b[0;32m     57\u001b[0m \u001b[1;33m\u001b[0m\u001b[0m\n\u001b[0;32m     58\u001b[0m \u001b[1;32mdef\u001b[0m \u001b[0mfit_logistic9\u001b[0m\u001b[1;33m(\u001b[0m\u001b[0mw_init\u001b[0m\u001b[1;33m,\u001b[0m \u001b[0mx\u001b[0m\u001b[1;33m,\u001b[0m \u001b[0mt\u001b[0m\u001b[1;33m)\u001b[0m\u001b[1;33m:\u001b[0m\u001b[1;33m\u001b[0m\u001b[1;33m\u001b[0m\u001b[0m\n\u001b[1;32m---> 59\u001b[1;33m     \u001b[0mres\u001b[0m \u001b[1;33m=\u001b[0m \u001b[0mminimize\u001b[0m\u001b[1;33m(\u001b[0m\u001b[0mcee_logistic9\u001b[0m\u001b[1;33m,\u001b[0m \u001b[0mw_init\u001b[0m\u001b[1;33m,\u001b[0m \u001b[0margs\u001b[0m\u001b[1;33m=\u001b[0m\u001b[1;33m(\u001b[0m\u001b[0mx\u001b[0m\u001b[1;33m,\u001b[0m\u001b[0mt\u001b[0m\u001b[1;33m)\u001b[0m\u001b[1;33m,\u001b[0m \u001b[0mjac\u001b[0m\u001b[1;33m=\u001b[0m\u001b[0mdcee_logistic9\u001b[0m\u001b[1;33m,\u001b[0m \u001b[0mmethod\u001b[0m\u001b[1;33m=\u001b[0m\u001b[1;34m\"CG\"\u001b[0m\u001b[1;33m)\u001b[0m\u001b[1;33m\u001b[0m\u001b[1;33m\u001b[0m\u001b[0m\n\u001b[0m\u001b[0;32m     60\u001b[0m     \u001b[1;32mreturn\u001b[0m \u001b[0mres\u001b[0m\u001b[1;33m.\u001b[0m\u001b[0mx\u001b[0m\u001b[1;33m\u001b[0m\u001b[1;33m\u001b[0m\u001b[0m\n\u001b[0;32m     61\u001b[0m \u001b[1;33m\u001b[0m\u001b[0m\n",
      "\u001b[1;32mC:\\ProgramData\\Anaconda3\\lib\\site-packages\\scipy\\optimize\\_minimize.py\u001b[0m in \u001b[0;36mminimize\u001b[1;34m(fun, x0, args, method, jac, hess, hessp, bounds, constraints, tol, callback, options)\u001b[0m\n\u001b[0;32m    600\u001b[0m         \u001b[1;32mreturn\u001b[0m \u001b[0m_minimize_powell\u001b[0m\u001b[1;33m(\u001b[0m\u001b[0mfun\u001b[0m\u001b[1;33m,\u001b[0m \u001b[0mx0\u001b[0m\u001b[1;33m,\u001b[0m \u001b[0margs\u001b[0m\u001b[1;33m,\u001b[0m \u001b[0mcallback\u001b[0m\u001b[1;33m,\u001b[0m \u001b[1;33m**\u001b[0m\u001b[0moptions\u001b[0m\u001b[1;33m)\u001b[0m\u001b[1;33m\u001b[0m\u001b[1;33m\u001b[0m\u001b[0m\n\u001b[0;32m    601\u001b[0m     \u001b[1;32melif\u001b[0m \u001b[0mmeth\u001b[0m \u001b[1;33m==\u001b[0m \u001b[1;34m'cg'\u001b[0m\u001b[1;33m:\u001b[0m\u001b[1;33m\u001b[0m\u001b[1;33m\u001b[0m\u001b[0m\n\u001b[1;32m--> 602\u001b[1;33m         \u001b[1;32mreturn\u001b[0m \u001b[0m_minimize_cg\u001b[0m\u001b[1;33m(\u001b[0m\u001b[0mfun\u001b[0m\u001b[1;33m,\u001b[0m \u001b[0mx0\u001b[0m\u001b[1;33m,\u001b[0m \u001b[0margs\u001b[0m\u001b[1;33m,\u001b[0m \u001b[0mjac\u001b[0m\u001b[1;33m,\u001b[0m \u001b[0mcallback\u001b[0m\u001b[1;33m,\u001b[0m \u001b[1;33m**\u001b[0m\u001b[0moptions\u001b[0m\u001b[1;33m)\u001b[0m\u001b[1;33m\u001b[0m\u001b[1;33m\u001b[0m\u001b[0m\n\u001b[0m\u001b[0;32m    603\u001b[0m     \u001b[1;32melif\u001b[0m \u001b[0mmeth\u001b[0m \u001b[1;33m==\u001b[0m \u001b[1;34m'bfgs'\u001b[0m\u001b[1;33m:\u001b[0m\u001b[1;33m\u001b[0m\u001b[1;33m\u001b[0m\u001b[0m\n\u001b[0;32m    604\u001b[0m         \u001b[1;32mreturn\u001b[0m \u001b[0m_minimize_bfgs\u001b[0m\u001b[1;33m(\u001b[0m\u001b[0mfun\u001b[0m\u001b[1;33m,\u001b[0m \u001b[0mx0\u001b[0m\u001b[1;33m,\u001b[0m \u001b[0margs\u001b[0m\u001b[1;33m,\u001b[0m \u001b[0mjac\u001b[0m\u001b[1;33m,\u001b[0m \u001b[0mcallback\u001b[0m\u001b[1;33m,\u001b[0m \u001b[1;33m**\u001b[0m\u001b[0moptions\u001b[0m\u001b[1;33m)\u001b[0m\u001b[1;33m\u001b[0m\u001b[1;33m\u001b[0m\u001b[0m\n",
      "\u001b[1;32mC:\\ProgramData\\Anaconda3\\lib\\site-packages\\scipy\\optimize\\optimize.py\u001b[0m in \u001b[0;36m_minimize_cg\u001b[1;34m(fun, x0, args, jac, callback, gtol, norm, eps, maxiter, disp, return_all, **unknown_options)\u001b[0m\n\u001b[0;32m   1361\u001b[0m                      _line_search_wolfe12(f, myfprime, xk, pk, gfk, old_fval,\n\u001b[0;32m   1362\u001b[0m                                           \u001b[0mold_old_fval\u001b[0m\u001b[1;33m,\u001b[0m \u001b[0mc2\u001b[0m\u001b[1;33m=\u001b[0m\u001b[1;36m0.4\u001b[0m\u001b[1;33m,\u001b[0m \u001b[0mamin\u001b[0m\u001b[1;33m=\u001b[0m\u001b[1;36m1e-100\u001b[0m\u001b[1;33m,\u001b[0m \u001b[0mamax\u001b[0m\u001b[1;33m=\u001b[0m\u001b[1;36m1e100\u001b[0m\u001b[1;33m,\u001b[0m\u001b[1;33m\u001b[0m\u001b[1;33m\u001b[0m\u001b[0m\n\u001b[1;32m-> 1363\u001b[1;33m                                           extra_condition=descent_condition)\n\u001b[0m\u001b[0;32m   1364\u001b[0m         \u001b[1;32mexcept\u001b[0m \u001b[0m_LineSearchError\u001b[0m\u001b[1;33m:\u001b[0m\u001b[1;33m\u001b[0m\u001b[1;33m\u001b[0m\u001b[0m\n\u001b[0;32m   1365\u001b[0m             \u001b[1;31m# Line search failed to find a better solution.\u001b[0m\u001b[1;33m\u001b[0m\u001b[1;33m\u001b[0m\u001b[1;33m\u001b[0m\u001b[0m\n",
      "\u001b[1;32mC:\\ProgramData\\Anaconda3\\lib\\site-packages\\scipy\\optimize\\optimize.py\u001b[0m in \u001b[0;36m_line_search_wolfe12\u001b[1;34m(f, fprime, xk, pk, gfk, old_fval, old_old_fval, **kwargs)\u001b[0m\n\u001b[0;32m    843\u001b[0m     ret = line_search_wolfe1(f, fprime, xk, pk, gfk,\n\u001b[0;32m    844\u001b[0m                              \u001b[0mold_fval\u001b[0m\u001b[1;33m,\u001b[0m \u001b[0mold_old_fval\u001b[0m\u001b[1;33m,\u001b[0m\u001b[1;33m\u001b[0m\u001b[1;33m\u001b[0m\u001b[0m\n\u001b[1;32m--> 845\u001b[1;33m                              **kwargs)\n\u001b[0m\u001b[0;32m    846\u001b[0m \u001b[1;33m\u001b[0m\u001b[0m\n\u001b[0;32m    847\u001b[0m     \u001b[1;32mif\u001b[0m \u001b[0mret\u001b[0m\u001b[1;33m[\u001b[0m\u001b[1;36m0\u001b[0m\u001b[1;33m]\u001b[0m \u001b[1;32mis\u001b[0m \u001b[1;32mnot\u001b[0m \u001b[1;32mNone\u001b[0m \u001b[1;32mand\u001b[0m \u001b[0mextra_condition\u001b[0m \u001b[1;32mis\u001b[0m \u001b[1;32mnot\u001b[0m \u001b[1;32mNone\u001b[0m\u001b[1;33m:\u001b[0m\u001b[1;33m\u001b[0m\u001b[1;33m\u001b[0m\u001b[0m\n",
      "\u001b[1;32mC:\\ProgramData\\Anaconda3\\lib\\site-packages\\scipy\\optimize\\linesearch.py\u001b[0m in \u001b[0;36mline_search_wolfe1\u001b[1;34m(f, fprime, xk, pk, gfk, old_fval, old_old_fval, args, c1, c2, amax, amin, xtol)\u001b[0m\n\u001b[0;32m     99\u001b[0m     stp, fval, old_fval = scalar_search_wolfe1(\n\u001b[0;32m    100\u001b[0m             \u001b[0mphi\u001b[0m\u001b[1;33m,\u001b[0m \u001b[0mderphi\u001b[0m\u001b[1;33m,\u001b[0m \u001b[0mold_fval\u001b[0m\u001b[1;33m,\u001b[0m \u001b[0mold_old_fval\u001b[0m\u001b[1;33m,\u001b[0m \u001b[0mderphi0\u001b[0m\u001b[1;33m,\u001b[0m\u001b[1;33m\u001b[0m\u001b[1;33m\u001b[0m\u001b[0m\n\u001b[1;32m--> 101\u001b[1;33m             c1=c1, c2=c2, amax=amax, amin=amin, xtol=xtol)\n\u001b[0m\u001b[0;32m    102\u001b[0m \u001b[1;33m\u001b[0m\u001b[0m\n\u001b[0;32m    103\u001b[0m     \u001b[1;32mreturn\u001b[0m \u001b[0mstp\u001b[0m\u001b[1;33m,\u001b[0m \u001b[0mfc\u001b[0m\u001b[1;33m[\u001b[0m\u001b[1;36m0\u001b[0m\u001b[1;33m]\u001b[0m\u001b[1;33m,\u001b[0m \u001b[0mgc\u001b[0m\u001b[1;33m[\u001b[0m\u001b[1;36m0\u001b[0m\u001b[1;33m]\u001b[0m\u001b[1;33m,\u001b[0m \u001b[0mfval\u001b[0m\u001b[1;33m,\u001b[0m \u001b[0mold_fval\u001b[0m\u001b[1;33m,\u001b[0m \u001b[0mgval\u001b[0m\u001b[1;33m[\u001b[0m\u001b[1;36m0\u001b[0m\u001b[1;33m]\u001b[0m\u001b[1;33m\u001b[0m\u001b[1;33m\u001b[0m\u001b[0m\n",
      "\u001b[1;32mC:\\ProgramData\\Anaconda3\\lib\\site-packages\\scipy\\optimize\\linesearch.py\u001b[0m in \u001b[0;36mscalar_search_wolfe1\u001b[1;34m(phi, derphi, phi0, old_phi0, derphi0, c1, c2, amax, amin, xtol)\u001b[0m\n\u001b[0;32m    173\u001b[0m         \u001b[1;32mif\u001b[0m \u001b[0mtask\u001b[0m\u001b[1;33m[\u001b[0m\u001b[1;33m:\u001b[0m\u001b[1;36m2\u001b[0m\u001b[1;33m]\u001b[0m \u001b[1;33m==\u001b[0m \u001b[1;34mb'FG'\u001b[0m\u001b[1;33m:\u001b[0m\u001b[1;33m\u001b[0m\u001b[1;33m\u001b[0m\u001b[0m\n\u001b[0;32m    174\u001b[0m             \u001b[0malpha1\u001b[0m \u001b[1;33m=\u001b[0m \u001b[0mstp\u001b[0m\u001b[1;33m\u001b[0m\u001b[1;33m\u001b[0m\u001b[0m\n\u001b[1;32m--> 175\u001b[1;33m             \u001b[0mphi1\u001b[0m \u001b[1;33m=\u001b[0m \u001b[0mphi\u001b[0m\u001b[1;33m(\u001b[0m\u001b[0mstp\u001b[0m\u001b[1;33m)\u001b[0m\u001b[1;33m\u001b[0m\u001b[1;33m\u001b[0m\u001b[0m\n\u001b[0m\u001b[0;32m    176\u001b[0m             \u001b[0mderphi1\u001b[0m \u001b[1;33m=\u001b[0m \u001b[0mderphi\u001b[0m\u001b[1;33m(\u001b[0m\u001b[0mstp\u001b[0m\u001b[1;33m)\u001b[0m\u001b[1;33m\u001b[0m\u001b[1;33m\u001b[0m\u001b[0m\n\u001b[0;32m    177\u001b[0m         \u001b[1;32melse\u001b[0m\u001b[1;33m:\u001b[0m\u001b[1;33m\u001b[0m\u001b[1;33m\u001b[0m\u001b[0m\n",
      "\u001b[1;32mC:\\ProgramData\\Anaconda3\\lib\\site-packages\\scipy\\optimize\\linesearch.py\u001b[0m in \u001b[0;36mphi\u001b[1;34m(s)\u001b[0m\n\u001b[0;32m     85\u001b[0m     \u001b[1;32mdef\u001b[0m \u001b[0mphi\u001b[0m\u001b[1;33m(\u001b[0m\u001b[0ms\u001b[0m\u001b[1;33m)\u001b[0m\u001b[1;33m:\u001b[0m\u001b[1;33m\u001b[0m\u001b[1;33m\u001b[0m\u001b[0m\n\u001b[0;32m     86\u001b[0m         \u001b[0mfc\u001b[0m\u001b[1;33m[\u001b[0m\u001b[1;36m0\u001b[0m\u001b[1;33m]\u001b[0m \u001b[1;33m+=\u001b[0m \u001b[1;36m1\u001b[0m\u001b[1;33m\u001b[0m\u001b[1;33m\u001b[0m\u001b[0m\n\u001b[1;32m---> 87\u001b[1;33m         \u001b[1;32mreturn\u001b[0m \u001b[0mf\u001b[0m\u001b[1;33m(\u001b[0m\u001b[0mxk\u001b[0m \u001b[1;33m+\u001b[0m \u001b[0ms\u001b[0m\u001b[1;33m*\u001b[0m\u001b[0mpk\u001b[0m\u001b[1;33m,\u001b[0m \u001b[1;33m*\u001b[0m\u001b[0margs\u001b[0m\u001b[1;33m)\u001b[0m\u001b[1;33m\u001b[0m\u001b[1;33m\u001b[0m\u001b[0m\n\u001b[0m\u001b[0;32m     88\u001b[0m \u001b[1;33m\u001b[0m\u001b[0m\n\u001b[0;32m     89\u001b[0m     \u001b[1;32mdef\u001b[0m \u001b[0mderphi\u001b[0m\u001b[1;33m(\u001b[0m\u001b[0ms\u001b[0m\u001b[1;33m)\u001b[0m\u001b[1;33m:\u001b[0m\u001b[1;33m\u001b[0m\u001b[1;33m\u001b[0m\u001b[0m\n",
      "\u001b[1;32mC:\\ProgramData\\Anaconda3\\lib\\site-packages\\scipy\\optimize\\optimize.py\u001b[0m in \u001b[0;36mfunction_wrapper\u001b[1;34m(*wrapper_args)\u001b[0m\n\u001b[0;32m    325\u001b[0m     \u001b[1;32mdef\u001b[0m \u001b[0mfunction_wrapper\u001b[0m\u001b[1;33m(\u001b[0m\u001b[1;33m*\u001b[0m\u001b[0mwrapper_args\u001b[0m\u001b[1;33m)\u001b[0m\u001b[1;33m:\u001b[0m\u001b[1;33m\u001b[0m\u001b[1;33m\u001b[0m\u001b[0m\n\u001b[0;32m    326\u001b[0m         \u001b[0mncalls\u001b[0m\u001b[1;33m[\u001b[0m\u001b[1;36m0\u001b[0m\u001b[1;33m]\u001b[0m \u001b[1;33m+=\u001b[0m \u001b[1;36m1\u001b[0m\u001b[1;33m\u001b[0m\u001b[1;33m\u001b[0m\u001b[0m\n\u001b[1;32m--> 327\u001b[1;33m         \u001b[1;32mreturn\u001b[0m \u001b[0mfunction\u001b[0m\u001b[1;33m(\u001b[0m\u001b[1;33m*\u001b[0m\u001b[1;33m(\u001b[0m\u001b[0mwrapper_args\u001b[0m \u001b[1;33m+\u001b[0m \u001b[0margs\u001b[0m\u001b[1;33m)\u001b[0m\u001b[1;33m)\u001b[0m\u001b[1;33m\u001b[0m\u001b[1;33m\u001b[0m\u001b[0m\n\u001b[0m\u001b[0;32m    328\u001b[0m \u001b[1;33m\u001b[0m\u001b[0m\n\u001b[0;32m    329\u001b[0m     \u001b[1;32mreturn\u001b[0m \u001b[0mncalls\u001b[0m\u001b[1;33m,\u001b[0m \u001b[0mfunction_wrapper\u001b[0m\u001b[1;33m\u001b[0m\u001b[1;33m\u001b[0m\u001b[0m\n",
      "\u001b[1;32m<ipython-input-335-f6b875a1a499>\u001b[0m in \u001b[0;36mcee_logistic9\u001b[1;34m(w, x, t)\u001b[0m\n\u001b[0;32m     24\u001b[0m \u001b[1;32mdef\u001b[0m \u001b[0mcee_logistic9\u001b[0m\u001b[1;33m(\u001b[0m\u001b[0mw\u001b[0m\u001b[1;33m,\u001b[0m \u001b[0mx\u001b[0m\u001b[1;33m,\u001b[0m \u001b[0mt\u001b[0m\u001b[1;33m)\u001b[0m\u001b[1;33m:\u001b[0m\u001b[1;33m\u001b[0m\u001b[1;33m\u001b[0m\u001b[0m\n\u001b[0;32m     25\u001b[0m     \u001b[0mX_n\u001b[0m \u001b[1;33m=\u001b[0m \u001b[0mx\u001b[0m\u001b[1;33m.\u001b[0m\u001b[0mshape\u001b[0m\u001b[1;33m[\u001b[0m\u001b[1;36m0\u001b[0m\u001b[1;33m]\u001b[0m\u001b[1;33m\u001b[0m\u001b[1;33m\u001b[0m\u001b[0m\n\u001b[1;32m---> 26\u001b[1;33m     \u001b[0my\u001b[0m \u001b[1;33m=\u001b[0m \u001b[0mlogistic9\u001b[0m\u001b[1;33m(\u001b[0m\u001b[0mx\u001b[0m\u001b[1;33m[\u001b[0m\u001b[1;33m:\u001b[0m\u001b[1;33m,\u001b[0m\u001b[1;36m0\u001b[0m\u001b[1;33m]\u001b[0m\u001b[1;33m,\u001b[0m \u001b[0mx\u001b[0m\u001b[1;33m[\u001b[0m\u001b[1;33m:\u001b[0m\u001b[1;33m,\u001b[0m\u001b[1;36m1\u001b[0m\u001b[1;33m]\u001b[0m\u001b[1;33m,\u001b[0m \u001b[0mx\u001b[0m\u001b[1;33m[\u001b[0m\u001b[1;33m:\u001b[0m\u001b[1;33m,\u001b[0m\u001b[1;36m2\u001b[0m\u001b[1;33m]\u001b[0m\u001b[1;33m,\u001b[0m \u001b[0mx\u001b[0m\u001b[1;33m[\u001b[0m\u001b[1;33m:\u001b[0m\u001b[1;33m,\u001b[0m\u001b[1;36m3\u001b[0m\u001b[1;33m]\u001b[0m\u001b[1;33m,\u001b[0m \u001b[0mx\u001b[0m\u001b[1;33m[\u001b[0m\u001b[1;33m:\u001b[0m\u001b[1;33m,\u001b[0m\u001b[1;36m4\u001b[0m\u001b[1;33m]\u001b[0m\u001b[1;33m,\u001b[0m \u001b[0mx\u001b[0m\u001b[1;33m[\u001b[0m\u001b[1;33m:\u001b[0m\u001b[1;33m,\u001b[0m\u001b[1;36m5\u001b[0m\u001b[1;33m]\u001b[0m\u001b[1;33m,\u001b[0m \u001b[0mx\u001b[0m\u001b[1;33m[\u001b[0m\u001b[1;33m:\u001b[0m\u001b[1;33m,\u001b[0m\u001b[1;36m6\u001b[0m\u001b[1;33m]\u001b[0m\u001b[1;33m,\u001b[0m \u001b[0mx\u001b[0m\u001b[1;33m[\u001b[0m\u001b[1;33m:\u001b[0m\u001b[1;33m,\u001b[0m\u001b[1;36m7\u001b[0m\u001b[1;33m]\u001b[0m\u001b[1;33m,\u001b[0m \u001b[0mx\u001b[0m\u001b[1;33m[\u001b[0m\u001b[1;33m:\u001b[0m\u001b[1;33m,\u001b[0m\u001b[1;36m8\u001b[0m\u001b[1;33m]\u001b[0m\u001b[1;33m,\u001b[0m \u001b[0mw\u001b[0m\u001b[1;33m)\u001b[0m\u001b[1;33m\u001b[0m\u001b[1;33m\u001b[0m\u001b[0m\n\u001b[0m\u001b[0;32m     27\u001b[0m     \u001b[0mcee\u001b[0m \u001b[1;33m=\u001b[0m \u001b[1;36m1\u001b[0m\u001b[1;33m\u001b[0m\u001b[1;33m\u001b[0m\u001b[0m\n\u001b[0;32m     28\u001b[0m     \u001b[1;32mfor\u001b[0m \u001b[0mn\u001b[0m \u001b[1;32min\u001b[0m \u001b[0mrange\u001b[0m\u001b[1;33m(\u001b[0m\u001b[0mlen\u001b[0m\u001b[1;33m(\u001b[0m\u001b[0my\u001b[0m\u001b[1;33m)\u001b[0m\u001b[1;33m)\u001b[0m\u001b[1;33m:\u001b[0m\u001b[1;33m\u001b[0m\u001b[1;33m\u001b[0m\u001b[0m\n",
      "\u001b[1;32m<ipython-input-335-f6b875a1a499>\u001b[0m in \u001b[0;36mlogistic9\u001b[1;34m(x0, x1, x2, x3, x4, x5, x6, x7, x8, w)\u001b[0m\n\u001b[0;32m     19\u001b[0m \u001b[1;33m\u001b[0m\u001b[0m\n\u001b[0;32m     20\u001b[0m \u001b[1;32mdef\u001b[0m \u001b[0mlogistic9\u001b[0m\u001b[1;33m(\u001b[0m\u001b[0mx0\u001b[0m\u001b[1;33m,\u001b[0m \u001b[0mx1\u001b[0m\u001b[1;33m,\u001b[0m \u001b[0mx2\u001b[0m\u001b[1;33m,\u001b[0m \u001b[0mx3\u001b[0m\u001b[1;33m,\u001b[0m \u001b[0mx4\u001b[0m\u001b[1;33m,\u001b[0m \u001b[0mx5\u001b[0m \u001b[1;33m,\u001b[0m\u001b[0mx6\u001b[0m\u001b[1;33m,\u001b[0m \u001b[0mx7\u001b[0m\u001b[1;33m,\u001b[0m \u001b[0mx8\u001b[0m\u001b[1;33m,\u001b[0m \u001b[0mw\u001b[0m\u001b[1;33m)\u001b[0m\u001b[1;33m:\u001b[0m\u001b[1;33m\u001b[0m\u001b[1;33m\u001b[0m\u001b[0m\n\u001b[1;32m---> 21\u001b[1;33m     \u001b[0my\u001b[0m \u001b[1;33m=\u001b[0m \u001b[1;36m1\u001b[0m\u001b[1;33m/\u001b[0m\u001b[1;33m(\u001b[0m\u001b[1;36m1\u001b[0m\u001b[1;33m+\u001b[0m\u001b[0mnp\u001b[0m\u001b[1;33m.\u001b[0m\u001b[0mexp\u001b[0m\u001b[1;33m(\u001b[0m\u001b[1;33m-\u001b[0m\u001b[1;33m(\u001b[0m\u001b[0mw\u001b[0m\u001b[1;33m[\u001b[0m\u001b[1;36m0\u001b[0m\u001b[1;33m]\u001b[0m\u001b[1;33m*\u001b[0m\u001b[0mx0\u001b[0m \u001b[1;33m+\u001b[0m \u001b[0mw\u001b[0m\u001b[1;33m[\u001b[0m\u001b[1;36m1\u001b[0m\u001b[1;33m]\u001b[0m\u001b[1;33m*\u001b[0m\u001b[0mx1\u001b[0m \u001b[1;33m+\u001b[0m \u001b[0mw\u001b[0m\u001b[1;33m[\u001b[0m\u001b[1;36m2\u001b[0m\u001b[1;33m]\u001b[0m\u001b[1;33m*\u001b[0m\u001b[0mx2\u001b[0m \u001b[1;33m+\u001b[0m \u001b[0mw\u001b[0m\u001b[1;33m[\u001b[0m\u001b[1;36m3\u001b[0m\u001b[1;33m]\u001b[0m\u001b[1;33m*\u001b[0m\u001b[0mx3\u001b[0m \u001b[1;33m+\u001b[0m \u001b[0mw\u001b[0m\u001b[1;33m[\u001b[0m\u001b[1;36m4\u001b[0m\u001b[1;33m]\u001b[0m\u001b[1;33m*\u001b[0m\u001b[0mx4\u001b[0m \u001b[1;33m+\u001b[0m \u001b[0mw\u001b[0m\u001b[1;33m[\u001b[0m\u001b[1;36m5\u001b[0m\u001b[1;33m]\u001b[0m\u001b[1;33m*\u001b[0m\u001b[0mx5\u001b[0m \u001b[1;33m+\u001b[0m \u001b[0mw\u001b[0m\u001b[1;33m[\u001b[0m\u001b[1;36m6\u001b[0m\u001b[1;33m]\u001b[0m\u001b[1;33m*\u001b[0m\u001b[0mx6\u001b[0m \u001b[1;33m+\u001b[0m \u001b[0mw\u001b[0m\u001b[1;33m[\u001b[0m\u001b[1;36m7\u001b[0m\u001b[1;33m]\u001b[0m\u001b[1;33m*\u001b[0m\u001b[0mx7\u001b[0m \u001b[1;33m+\u001b[0m \u001b[0mw\u001b[0m\u001b[1;33m[\u001b[0m\u001b[1;36m8\u001b[0m\u001b[1;33m]\u001b[0m\u001b[1;33m*\u001b[0m\u001b[0mx8\u001b[0m \u001b[1;33m+\u001b[0m \u001b[0mw\u001b[0m\u001b[1;33m[\u001b[0m\u001b[1;36m9\u001b[0m\u001b[1;33m]\u001b[0m\u001b[1;33m)\u001b[0m\u001b[1;33m)\u001b[0m\u001b[1;33m)\u001b[0m\u001b[1;33m\u001b[0m\u001b[1;33m\u001b[0m\u001b[0m\n\u001b[0m\u001b[0;32m     22\u001b[0m     \u001b[1;32mreturn\u001b[0m \u001b[0my\u001b[0m\u001b[1;33m\u001b[0m\u001b[1;33m\u001b[0m\u001b[0m\n\u001b[0;32m     23\u001b[0m \u001b[1;33m\u001b[0m\u001b[0m\n",
      "\u001b[1;31mKeyboardInterrupt\u001b[0m: "
     ]
    }
   ],
   "source": [
    "# K겹 교차검증\n",
    "from sklearn.model_selection import StratifiedKFold\n",
    "kfold = StratifiedKFold(n_splits=4, shuffle=False, random_state=None)\n",
    "train_result = 0\n",
    "test_result = 0\n",
    "cost_func = [0.5, 0.0, 0.3, 0.3, 0.1, 0.4, 0.4, 0.2, 0.5, -10.1]\n",
    "\n",
    "\n",
    "for i in range(2,100):\n",
    "    \n",
    "    kfold = StratifiedKFold(n_splits=i, shuffle=False, random_state=None)\n",
    "\n",
    "\n",
    "    for train_index, test_index in kfold.split(X, T): \n",
    "        X_train, X_test = X[train_index], X[test_index]\n",
    "        T_train, T_test = T[train_index], T[test_index]\n",
    "    \n",
    "        W = fit_logistic9(W_init, X_train, T_train)\n",
    "        train_result = train_result + W\n",
    "    \n",
    "        W_test = fit_logistic9(W_init, X_test, T_test)\n",
    "        test_result = test_result + W_test\n",
    "        \n",
    "    result = np.sum(train_result - test_result)\n",
    "    print(i-1,\"번 째 결과\", result*100)\n",
    "        \n",
    "\n",
    "    train_result = 0\n",
    "    test_result = 0\n"
   ]
  },
  {
   "cell_type": "code",
   "execution_count": 349,
   "metadata": {},
   "outputs": [
    {
     "name": "stdout",
     "output_type": "stream",
     "text": [
      "     fun: 1.1169527384111089\n",
      "     jac: array([-0.74386273, -0.32902168, -0.38959287, -0.27535598, -0.47818758,\n",
      "       -0.40658616, -0.43563541, -0.20490677, -0.13449281, -0.20524968])\n",
      " message: 'Desired error not necessarily achieved due to precision loss.'\n",
      "    nfev: 122\n",
      "     nit: 2\n",
      "    njev: 110\n",
      "  status: 2\n",
      " success: False\n",
      "       x: array([-0.01546931, -0.37717634, -0.23820439,  0.03656975,  0.28850335,\n",
      "       -0.16327991,  0.00380427, -0.29493916,  0.55872322,  0.93888262])\n",
      "[-0.02 -0.38 -0.24  0.04  0.29 -0.16  0.   -0.29  0.56  0.94]\n"
     ]
    }
   ],
   "source": [
    "kfold = StratifiedKFold(n_splits=17, shuffle=False, random_state=None)\n",
    "\n",
    "W_test = fit_logistic9(W_init, X_test, T_test)\n",
    "\n",
    "print(np.round(W_test,2))"
   ]
  },
  {
   "cell_type": "code",
   "execution_count": 186,
   "metadata": {},
   "outputs": [
    {
     "name": "stdout",
     "output_type": "stream",
     "text": [
      "2.718281828459045\n",
      "2.718281828459045\n"
     ]
    }
   ],
   "source": [
    "import math \n",
    "print(np.exp(1))\n",
    "print(math.exp(1))"
   ]
  }
 ],
 "metadata": {
  "kernelspec": {
   "display_name": "Python 3",
   "language": "python",
   "name": "python3"
  },
  "language_info": {
   "codemirror_mode": {
    "name": "ipython",
    "version": 3
   },
   "file_extension": ".py",
   "mimetype": "text/x-python",
   "name": "python",
   "nbconvert_exporter": "python",
   "pygments_lexer": "ipython3",
   "version": "3.7.6"
  }
 },
 "nbformat": 4,
 "nbformat_minor": 4
}
